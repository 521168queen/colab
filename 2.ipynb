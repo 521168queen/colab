{
  "nbformat": 4,
  "nbformat_minor": 0,
  "metadata": {
    "colab": {
      "name": "2.ipynb",
      "provenance": [],
      "collapsed_sections": [],
      "toc_visible": true,
      "authorship_tag": "ABX9TyMFvtZVyTHcKCR2zN4TtCmr",
      "include_colab_link": true
    },
    "kernelspec": {
      "name": "python3",
      "display_name": "Python 3"
    }
  },
  "cells": [
    {
      "cell_type": "markdown",
      "metadata": {
        "id": "view-in-github",
        "colab_type": "text"
      },
      "source": [
        "<a href=\"https://colab.research.google.com/github/521168queen/colab/blob/main/2.ipynb\" target=\"_parent\"><img src=\"https://colab.research.google.com/assets/colab-badge.svg\" alt=\"Open In Colab\"/></a>"
      ]
    },
    {
      "cell_type": "markdown",
      "metadata": {
        "id": "41pYcqoDC4ph"
      },
      "source": [
        "#<strong>初识colab</strong>\r\n",
        "colab相当于jupyter notebook，借助 Colaboratory（简称 Colab），你可在浏览器中编写和执行 Python 代码，并且：\r\n",
        "*   无需任何配置\r\n",
        "*   免费使用GPU\r\n",
        "*   轻松共享\r\n",
        "\r\n",
        "\r\n",
        "\r\n",
        "\r\n",
        "\r\n",
        "\r\n"
      ]
    },
    {
      "cell_type": "markdown",
      "metadata": {
        "id": "x4nCzNHVF3NE"
      },
      "source": [
        "##**cell**\r\n",
        "一个notebook是cell的集合，cell可以是解释性的文本，也可以是可以执行的的代码，单击一个cell选中它。"
      ]
    },
    {
      "cell_type": "markdown",
      "metadata": {
        "id": "j4bMTbblGftF"
      },
      "source": [
        "###code cell\r\n",
        "下面是一个**code cell**.当你连接上服务器以后，点击cell来选择它并且执行它里面的代码用以几种方式：\r\n",
        "* 点击cell左侧的**play icon**按钮运行cell；\r\n",
        "* 使用**Ctrl+Enter**来运行cell；\r\n",
        "* 使用**Alt+Enter**按钮来运行cell并且会在此cell下面插入一个新的cell。\r\n",
        "\r\n",
        "下面开始尝试一下吧！！！"
      ]
    },
    {
      "cell_type": "code",
      "metadata": {
        "cellView": "code",
        "id": "tDm_F6qn_c-0"
      },
      "source": [
        "# 查看Python版本\n",
        "import sys\n",
        "sys.version"
      ],
      "execution_count": null,
      "outputs": []
    },
    {
      "cell_type": "code",
      "metadata": {
        "id": "cZhzqt5VHZLw"
      },
      "source": [
        "# 查看tensorflow版本\r\n",
        "import tensorflow as tf\r\n",
        "tf.__version__"
      ],
      "execution_count": null,
      "outputs": []
    },
    {
      "cell_type": "markdown",
      "metadata": {
        "id": "LTdQUSN0IXk2"
      },
      "source": [
        "### Text cell\r\n",
        "Text模式，类似于（Markdown），大家在实验过程中用不到，感兴趣的同学可以下来自己查阅想关资料。"
      ]
    },
    {
      "cell_type": "markdown",
      "metadata": {
        "id": "UtKwe7KzJkN0"
      },
      "source": [
        "# Python相关知识\r\n",
        "\r\n",
        "参考资料：廖雪峰的Python教程"
      ]
    },
    {
      "cell_type": "markdown",
      "metadata": {
        "id": "f4lInuRUJpbe"
      },
      "source": [
        "##基本数据结构"
      ]
    },
    {
      "cell_type": "code",
      "metadata": {
        "id": "R79huosfKeMs"
      },
      "source": [
        "# 整数 int\r\n",
        "a = 5\r\n",
        "print(type(a)) #打印a的数据类型\r\n",
        "# 浮点数 float\r\n",
        "b = 5.0\r\n",
        "print(type(b))\r\n",
        "# 字符 str\r\n",
        "c = 'XAUT'\r\n",
        "print(type(c))\r\n",
        "# 列表 lsit\r\n",
        "d = [1,2,3,4,5]\r\n",
        "print(type(d))\r\n",
        "# 元组 tuple\r\n",
        "e = (1,2)\r\n",
        "print(type(e))\r\n",
        "# 集合 set\r\n",
        "f = {1,\"a\",b}\r\n",
        "print(type(f))"
      ],
      "execution_count": null,
      "outputs": []
    },
    {
      "cell_type": "markdown",
      "metadata": {
        "id": "xKA2-Al3LbRw"
      },
      "source": [
        "##循环语句和条件语句\r\n",
        "这里只展示for循环和if条件语句"
      ]
    },
    {
      "cell_type": "code",
      "metadata": {
        "id": "y1YhiqeyLuoC"
      },
      "source": [
        "# for循环\r\n",
        "for i in range(10): #range(n)函数用来产生[0,10)之间的整数\r\n",
        "  print(i*i)"
      ],
      "execution_count": null,
      "outputs": []
    },
    {
      "cell_type": "code",
      "metadata": {
        "id": "Lq8TuhD_MH0q"
      },
      "source": [
        "# if条件语句\r\n",
        "a = eval(input(\"please input a number: \"))\r\n",
        "if a>50:\r\n",
        "  print(a-50)\r\n",
        "else:\r\n",
        "  print(a+50)"
      ],
      "execution_count": null,
      "outputs": []
    },
    {
      "cell_type": "markdown",
      "metadata": {
        "id": "AvzbN1UXMedH"
      },
      "source": [
        "##函数"
      ]
    },
    {
      "cell_type": "code",
      "metadata": {
        "id": "Q_VFUctcMh7R"
      },
      "source": [
        "# 返回两数的平均值的函数\r\n",
        "def aver_sum(a, b): #定义一个函数必须要用关键字 def ,函数体应该缩进 \r\n",
        "  return (a+b)/2\r\n",
        "\r\n",
        "print(aver_sum(5,6))"
      ],
      "execution_count": null,
      "outputs": []
    },
    {
      "cell_type": "markdown",
      "metadata": {
        "id": "DEjb1AyZNHFY"
      },
      "source": [
        "##类"
      ]
    },
    {
      "cell_type": "code",
      "metadata": {
        "id": "S_cus0o6NI1A"
      },
      "source": [
        "# 我们定义一个学生类，有三个属性：年级，性别，姓名。和一个成员函数，打印出对象的信息。\r\n",
        "class stu():\r\n",
        "  def __init__(self,name,gender):\r\n",
        "    self.grade = \"大学\"\r\n",
        "    self.name = name\r\n",
        "    self.gender = gender\r\n",
        "  def print_inform(self):\r\n",
        "    print(\"我的名字是\"+ self.name)\r\n",
        "    print(\"我是一个\"+ self.gender+ \"生\")\r\n",
        "    print(\"我正在上\"+ self.grade)\r\n",
        "# 构造对象\r\n",
        "lili = stu(\"lili\", \"女\")\r\n",
        "liming = stu(\"liming\", \"男\")\r\n",
        "#打印信息\r\n",
        "lili.print_inform()\r\n",
        "liming.print_inform()"
      ],
      "execution_count": null,
      "outputs": []
    },
    {
      "cell_type": "markdown",
      "metadata": {
        "id": "Q-q6aH-USsa-"
      },
      "source": [
        "# TensorFlow相关知识"
      ]
    },
    {
      "cell_type": "markdown",
      "metadata": {
        "id": "dv7dkl1vS_HC"
      },
      "source": [
        "仅用熟悉Keras相关知识，可以用Keras搭建出自己想要的网络结构。能看的懂相关代码。参考资料：https://tf.wiki/zh_hans/basic/basic.html、https://keras.io/zh/"
      ]
    },
    {
      "cell_type": "markdown",
      "metadata": {
        "id": "vgxFRd7fXgYT"
      },
      "source": [
        "# 模型训练以及部署\r\n",
        "\r\n",
        "这里我建议用一个 我们以前用过的数据集（这样才能有好的效果），比如说花朵分类等等，带着大家将整个过程走一遍，包括从头搭建网络，训练，保存模型。"
      ]
    },
    {
      "cell_type": "markdown",
      "metadata": {
        "id": "Ncn6QqJJXSZm"
      },
      "source": [
        "##模型部署\r\n",
        "\r\n",
        "链接如下：https://github.com/tensorflow/examples/blob/master/lite/examples/image_classification/android/README.md"
      ]
    }
  ]
}